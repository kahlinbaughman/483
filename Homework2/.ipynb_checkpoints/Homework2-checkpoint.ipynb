{
 "cells": [
  {
   "cell_type": "markdown",
   "metadata": {},
   "source": [
    "## Imports"
   ]
  },
  {
   "cell_type": "code",
   "execution_count": 1,
   "metadata": {},
   "outputs": [],
   "source": [
    "import numpy as np\n",
    "from PIL import Image\n",
    "import matplotlib.pyplot as plt\n",
    "import matplotlib.image as mpimg"
   ]
  },
  {
   "cell_type": "markdown",
   "metadata": {},
   "source": [
    "# Question 5"
   ]
  },
  {
   "cell_type": "markdown",
   "metadata": {},
   "source": [
    "### A."
   ]
  },
  {
   "cell_type": "code",
   "execution_count": 40,
   "metadata": {},
   "outputs": [
    {
     "data": {
      "text/plain": [
       "(array([  5742.,   4102.,   2623.,   8887.,   7490.,  11019.,  14116.,\n",
       "         16466.,  17439.,  18235.,  18607.,  18861.,  19638.,  20504.,\n",
       "             0.,  21279.,  23263.,  27386.,  34475.,      0.,  44247.,\n",
       "         56231.,  68586.,      0.,  80114.,  88797.,      0.,  96326.,\n",
       "        101291.,      0., 104894., 107054.,      0., 110296., 112992.,\n",
       "             0., 113942.,      0., 113642., 113814.,      0., 112991.,\n",
       "        113280.,      0., 113330.,      0., 113145., 112064.,      0.,\n",
       "        107814., 100333.,      0.,  93424.,  86537.,      0.,  80121.,\n",
       "         75160.,      0.,  71646.,  67619.,      0.,  63741.,  60414.,\n",
       "             0.,  56663.,  53561.,      0.,  50852.,  49339.,      0.,\n",
       "         48983.,  49113.,      0.,  49597.,  49735.,      0.,  50114.,\n",
       "         50828.,      0.,  51547.,  52549.,      0.,  55247.,  57462.,\n",
       "             0.,  58615.,      0.,  59359.,  59667.,      0.,  60437.,\n",
       "         61977.,      0.,  62637.,  62990.,      0.,  63055.,  63100.,\n",
       "             0.,  62850.,      0.,  62517.,  61114.,      0.,  61405.,\n",
       "         61416.,      0.,  61964.,  61098.,      0.,  60889.,  59323.,\n",
       "             0.,  56497.,  53760.,      0.,  50959.,      0.,  48909.,\n",
       "         46880.,      0.,  46506.,  45844.,      0.,  45735.,  46099.,\n",
       "             0.,  46571.,  46959.,      0.,  47973.,  48081.,      0.,\n",
       "         48442.,  47615.,      0.,  46335.,  44913.,      0.,  43827.,\n",
       "         42964.,      0.,  42122.,  41314.,  41043.,      0.,  41388.,\n",
       "         41519.,      0.,  41356.,  40838.,  40672.,      0.,  39857.,\n",
       "         39417.,  37637.,      0.,  36234.,  34457.,  33026.,  30840.,\n",
       "         30318.,      0.,  29859.,  30097.,  30798.,  31662.,  31496.,\n",
       "             0.,  29122.,  26652.,  24982.,  24427.,  24916.,      0.,\n",
       "         24561.,  23820.,  23494.,  23343.,  23080.,  23278.,      0.,\n",
       "         22789.,  21134.,  19797.,  17689.,  16543.,  15430.,  15097.,\n",
       "             0.,  14949.,  13671.,  13242.,  13028.,  12888.,  12897.,\n",
       "         12440.,  12773.,  12988.,      0.,  12374.,  11919.,  11209.,\n",
       "         11032.,  10708.,  10493.,  10666.,  10715.,  10259.,   9766.,\n",
       "          9336.,   8630.,   8345.,   7501.,   7317.,   6973.,   6333.,\n",
       "         11906.,   5534.,   5388.,   5087.,   5176.,  10015.,   4810.,\n",
       "          4657.,   9176.,   4310.,   8555.,   4481.,   8999.,   4448.,\n",
       "          8997.,   4612.,   9657.,   4711.,   8998.,   8734.,   9034.,\n",
       "          9244.,   4437.,  10435.,  12492.,  11631.,  15156.,  18345.,\n",
       "         20091.,  13867.,  24998.,  33868.,  27362.,  24818.,  21953.,\n",
       "          8698.,   8360.,  12501., 407326.]),\n",
       " array([0.        , 0.00390625, 0.0078125 , 0.01171875, 0.015625  ,\n",
       "        0.01953125, 0.0234375 , 0.02734375, 0.03125   , 0.03515625,\n",
       "        0.0390625 , 0.04296875, 0.046875  , 0.05078125, 0.0546875 ,\n",
       "        0.05859375, 0.0625    , 0.06640625, 0.0703125 , 0.07421875,\n",
       "        0.078125  , 0.08203125, 0.0859375 , 0.08984375, 0.09375   ,\n",
       "        0.09765625, 0.1015625 , 0.10546875, 0.109375  , 0.11328125,\n",
       "        0.1171875 , 0.12109375, 0.125     , 0.12890625, 0.1328125 ,\n",
       "        0.13671875, 0.140625  , 0.14453125, 0.1484375 , 0.15234375,\n",
       "        0.15625   , 0.16015625, 0.1640625 , 0.16796875, 0.171875  ,\n",
       "        0.17578125, 0.1796875 , 0.18359375, 0.1875    , 0.19140625,\n",
       "        0.1953125 , 0.19921875, 0.203125  , 0.20703125, 0.2109375 ,\n",
       "        0.21484375, 0.21875   , 0.22265625, 0.2265625 , 0.23046875,\n",
       "        0.234375  , 0.23828125, 0.2421875 , 0.24609375, 0.25      ,\n",
       "        0.25390625, 0.2578125 , 0.26171875, 0.265625  , 0.26953125,\n",
       "        0.2734375 , 0.27734375, 0.28125   , 0.28515625, 0.2890625 ,\n",
       "        0.29296875, 0.296875  , 0.30078125, 0.3046875 , 0.30859375,\n",
       "        0.3125    , 0.31640625, 0.3203125 , 0.32421875, 0.328125  ,\n",
       "        0.33203125, 0.3359375 , 0.33984375, 0.34375   , 0.34765625,\n",
       "        0.3515625 , 0.35546875, 0.359375  , 0.36328125, 0.3671875 ,\n",
       "        0.37109375, 0.375     , 0.37890625, 0.3828125 , 0.38671875,\n",
       "        0.390625  , 0.39453125, 0.3984375 , 0.40234375, 0.40625   ,\n",
       "        0.41015625, 0.4140625 , 0.41796875, 0.421875  , 0.42578125,\n",
       "        0.4296875 , 0.43359375, 0.4375    , 0.44140625, 0.4453125 ,\n",
       "        0.44921875, 0.453125  , 0.45703125, 0.4609375 , 0.46484375,\n",
       "        0.46875   , 0.47265625, 0.4765625 , 0.48046875, 0.484375  ,\n",
       "        0.48828125, 0.4921875 , 0.49609375, 0.5       , 0.50390625,\n",
       "        0.5078125 , 0.51171875, 0.515625  , 0.51953125, 0.5234375 ,\n",
       "        0.52734375, 0.53125   , 0.53515625, 0.5390625 , 0.54296875,\n",
       "        0.546875  , 0.55078125, 0.5546875 , 0.55859375, 0.5625    ,\n",
       "        0.56640625, 0.5703125 , 0.57421875, 0.578125  , 0.58203125,\n",
       "        0.5859375 , 0.58984375, 0.59375   , 0.59765625, 0.6015625 ,\n",
       "        0.60546875, 0.609375  , 0.61328125, 0.6171875 , 0.62109375,\n",
       "        0.625     , 0.62890625, 0.6328125 , 0.63671875, 0.640625  ,\n",
       "        0.64453125, 0.6484375 , 0.65234375, 0.65625   , 0.66015625,\n",
       "        0.6640625 , 0.66796875, 0.671875  , 0.67578125, 0.6796875 ,\n",
       "        0.68359375, 0.6875    , 0.69140625, 0.6953125 , 0.69921875,\n",
       "        0.703125  , 0.70703125, 0.7109375 , 0.71484375, 0.71875   ,\n",
       "        0.72265625, 0.7265625 , 0.73046875, 0.734375  , 0.73828125,\n",
       "        0.7421875 , 0.74609375, 0.75      , 0.75390625, 0.7578125 ,\n",
       "        0.76171875, 0.765625  , 0.76953125, 0.7734375 , 0.77734375,\n",
       "        0.78125   , 0.78515625, 0.7890625 , 0.79296875, 0.796875  ,\n",
       "        0.80078125, 0.8046875 , 0.80859375, 0.8125    , 0.81640625,\n",
       "        0.8203125 , 0.82421875, 0.828125  , 0.83203125, 0.8359375 ,\n",
       "        0.83984375, 0.84375   , 0.84765625, 0.8515625 , 0.85546875,\n",
       "        0.859375  , 0.86328125, 0.8671875 , 0.87109375, 0.875     ,\n",
       "        0.87890625, 0.8828125 , 0.88671875, 0.890625  , 0.89453125,\n",
       "        0.8984375 , 0.90234375, 0.90625   , 0.91015625, 0.9140625 ,\n",
       "        0.91796875, 0.921875  , 0.92578125, 0.9296875 , 0.93359375,\n",
       "        0.9375    , 0.94140625, 0.9453125 , 0.94921875, 0.953125  ,\n",
       "        0.95703125, 0.9609375 , 0.96484375, 0.96875   , 0.97265625,\n",
       "        0.9765625 , 0.98046875, 0.984375  , 0.98828125, 0.9921875 ,\n",
       "        0.99609375, 1.        ]),\n",
       " <a list of 256 Patch objects>)"
      ]
     },
     "execution_count": 40,
     "metadata": {},
     "output_type": "execute_result"
    },
    {
     "data": {
      "image/png": "[encoded data removed]",
      "text/plain": [
       "<Figure size 432x288 with 1 Axes>"
      ]
     },
     "metadata": {
      "needs_background": "light"
     },
     "output_type": "display_data"
    }
   ],
   "source": [
    "\n",
    "# Equalizes a histogram\n",
    "# Parameters: \n",
    "#       gray_image: Grayscale image to find and equalize its histogram\n",
    "#       bins: Number of bins in the histogram\n",
    "#\n",
    "\n",
    "    \n",
    "def my_hist_equalization(image, bins):\n",
    "# Start of equalization function\n",
    "\n",
    "    # Take the image as an array\n",
    "    array_image = np.asarray(image)\n",
    "    \n",
    "    # Flatten the array\n",
    "    flat_image = array_image.flatten()\n",
    "    \n",
    "    histogram = np.zeros(bins)\n",
    "    \n",
    "    for pixel in array_image:\n",
    "        histogram[pixel] += 1\n",
    "        \n",
    "    for index in range(1, histogram.size):\n",
    "        histogram[index] = histogram[index -1] + histogram[index]\n",
    "        \n",
    "    cumsum = histogram\n",
    "    \n",
    "    nj = (cumsum - cumsum.min()) * 1\n",
    "    N = cumsum.max() - cumsum.min()\n",
    "    \n",
    "    cumsum = nj / N\n",
    "    \n",
    "    cumsum.astype('uint8')\n",
    "    \n",
    "    new_img = cumsum[flat_image]\n",
    "        \n",
    "    return new_img\n",
    "\n",
    "#End of function\n",
    "\n",
    "# Rest of the code\n",
    "\n",
    "wall_gray = Image.open(\"wall_gray.jpg\")\n",
    "plt.hist(my_hist_equalization(wall_gray, 256), bins=256)\n"
   ]
  },
  {
   "cell_type": "code",
   "execution_count": 27,
   "metadata": {},
   "outputs": [
    {
     "data": {
      "text/plain": [
       "[<matplotlib.lines.Line2D at 0x7ffb749e7e80>]"
      ]
     },
     "execution_count": 27,
     "metadata": {},
     "output_type": "execute_result"
    },
    {
     "data": {
      "image/png": "[encoded data removed]",
      "text/plain": [
       "<Figure size 432x288 with 1 Axes>"
      ]
     },
     "metadata": {
      "needs_background": "light"
     },
     "output_type": "display_data"
    }
   ],
   "source": []
  },
  {
   "cell_type": "code",
   "execution_count": null,
   "metadata": {},
   "outputs": [],
   "source": []
  },
  {
   "cell_type": "code",
   "execution_count": null,
   "metadata": {},
   "outputs": [],
   "source": []
  },
  {
   "cell_type": "code",
   "execution_count": null,
   "metadata": {},
   "outputs": [],
   "source": []
  },
  {
   "cell_type": "code",
   "execution_count": null,
   "metadata": {},
   "outputs": [],
   "source": []
  },
  {
   "cell_type": "code",
   "execution_count": null,
   "metadata": {},
   "outputs": [],
   "source": []
  },
  {
   "cell_type": "code",
   "execution_count": null,
   "metadata": {},
   "outputs": [],
   "source": []
  },
  {
   "cell_type": "code",
   "execution_count": null,
   "metadata": {},
   "outputs": [],
   "source": []
  },
  {
   "cell_type": "code",
   "execution_count": null,
   "metadata": {},
   "outputs": [],
   "source": []
  },
  {
   "cell_type": "code",
   "execution_count": null,
   "metadata": {},
   "outputs": [],
   "source": []
  }
 ],
 "metadata": {
  "kernelspec": {
   "display_name": "Python 3",
   "language": "python",
   "name": "python3"
  },
  "language_info": {
   "codemirror_mode": {
    "name": "ipython",
    "version": 3
   },
   "file_extension": ".py",
   "mimetype": "text/x-python",
   "name": "python",
   "nbconvert_exporter": "python",
   "pygments_lexer": "ipython3",
   "version": "3.7.3"
  }
 },
 "nbformat": 4,
 "nbformat_minor": 2
}
